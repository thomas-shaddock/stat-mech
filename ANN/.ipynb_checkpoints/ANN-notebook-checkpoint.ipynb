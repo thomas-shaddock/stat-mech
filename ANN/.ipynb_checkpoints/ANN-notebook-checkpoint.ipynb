{
 "cells": [
  {
   "cell_type": "code",
   "execution_count": 1,
   "id": "0eecf712-c098-4ff8-a8be-4e18d94604d7",
   "metadata": {},
   "outputs": [],
   "source": [
    "import numpy as np\n",
    "import matplotlib.pyplot as plt"
   ]
  },
  {
   "cell_type": "code",
   "execution_count": 33,
   "id": "71bca722-a1fe-4824-923e-43efe851ffab",
   "metadata": {},
   "outputs": [],
   "source": [
    "num_layers = 3\n",
    "layer_size = 32\n",
    "input_size = 5\n",
    "\n",
    "\n",
    "def generate_layers():\n",
    "    network = []\n",
    "    a = input_size\n",
    "    b = layer_size\n",
    "    i = 0\n",
    "    \n",
    "    while i < num_layers:\n",
    "        if i == num_layers - 1:\n",
    "            b = 1\n",
    "            \n",
    "        network.append(2*np.random.random([a,b]) - np.ones([a,b]))\n",
    "        \n",
    "        a = layer_size\n",
    "        i += 1\n",
    "    \n",
    "    return(network)\n",
    "        \n",
    "        \n",
    "        \n",
    "f = lambda x: 1 / (1 + np.exp(x))\n",
    "df = lambda x: f(x) * (1 - f(x))\n",
    "        "
   ]
  },
  {
   "cell_type": "code",
   "execution_count": 38,
   "id": "038bf2f3-79e2-4c36-82a0-f999d535bd6f",
   "metadata": {},
   "outputs": [],
   "source": [
    "def evaluate(network, data):\n",
    "    layers = []\n",
    "    layers.append(data)\n",
    "    i = 0\n",
    "    while i < len(network):\n",
    "        layers.append(f(np.matmul(layers[i],network[i])))\n",
    "        i += 1\n",
    "        \n",
    "    return layers, layers[-1]"
   ]
  },
  {
   "cell_type": "code",
   "execution_count": 267,
   "id": "8fea72eb-d26f-4573-ac5e-9ff5d4f75489",
   "metadata": {},
   "outputs": [],
   "source": [
    "def train(network, training_data, target):\n",
    "    \n",
    "    # push forward\n",
    "    layers, result = evaluate(network,training_data)\n",
    "    result_error = (target - result.T)\n",
    "    print(result_error.shape)\n",
    "    \n",
    "    # backpropagate\n",
    "    errors = [result_error]\n",
    "\n",
    "    deltas = [result_error @ df(layers[-1])]\n",
    "\n",
    "    i = len(network) - 2\n",
    "    while i >= 0:\n",
    "        print(deltas[0].shape,layers[i+1].shape)\n",
    "        errors.insert(0, (deltas[0] @ layers[i+1]).T)\n",
    "        print(errors[0].shape,df(layers[i]).shape)\n",
    "        deltas.insert(0, (errors[0] @ df(layers[i])))\n",
    "        \n",
    "        i -= 1\n",
    "    \n",
    "    print(len(errors))\n",
    "    print(len(deltas))\n",
    "    \n",
    "    i = 0\n",
    "    while i < len(network):\n",
    "        network[i] += layers[i].T @ deltas[i+1]\n",
    "        \n",
    "        i += 1\n",
    "    return network"
   ]
  },
  {
   "cell_type": "code",
   "execution_count": 268,
   "id": "99671194-522a-437f-b758-893c437ac8ce",
   "metadata": {},
   "outputs": [],
   "source": [
    "X = [0,0,0,0,0,\n",
    "     0,0,0,0,1,\n",
    "     0,0,0,1,0,\n",
    "     0,0,0,1,1,\n",
    "     0,0,1,0,0,\n",
    "     0,0,1,0,1,\n",
    "     0,0,1,1,0,\n",
    "     0,0,1,1,1,\n",
    "     0,1,0,0,0,\n",
    "     0,1,0,0,1,\n",
    "     #0,1,0,1,0, #Z, the test, will be this one\n",
    "     0,1,0,1,1,\n",
    "     0,1,1,0,0,\n",
    "     0,1,1,0,1,\n",
    "     0,1,1,1,0,\n",
    "     0,1,1,1,1,\n",
    "     1,0,0,0,0,\n",
    "     1,0,0,0,1,\n",
    "     1,0,0,1,0,\n",
    "     1,0,0,1,1,\n",
    "     1,0,1,0,0,\n",
    "     1,0,1,0,1,\n",
    "     1,0,1,1,0,\n",
    "     1,0,1,1,1,\n",
    "     1,1,0,0,0,\n",
    "     1,1,0,0,1,\n",
    "     1,1,0,1,0,\n",
    "     1,1,0,1,1,\n",
    "     1,1,1,0,0,\n",
    "     1,1,1,0,1,\n",
    "     1,1,1,1,0,\n",
    "     1,1,1,1,1\n",
    "    ]\n",
    "X = np.reshape(X,[31,5])\n",
    "Y = np.array([1,0,0,1,0,1,1,0,0,1,#1,\n",
    "     0,1,0,0,1,0,1,1,0,1,0,0,1,1,0,0,1,0,1,1,0])"
   ]
  },
  {
   "cell_type": "code",
   "execution_count": 269,
   "id": "6cf0bd05-d793-4eeb-8e8b-8b1bfb8357c3",
   "metadata": {},
   "outputs": [
    {
     "name": "stdout",
     "output_type": "stream",
     "text": [
      "(1, 31)\n",
      "(1, 1) (31, 32)\n"
     ]
    },
    {
     "ename": "ValueError",
     "evalue": "matmul: Input operand 1 has a mismatch in its core dimension 0, with gufunc signature (n?,k),(k,m?)->(n?,m?) (size 31 is different from 1)",
     "output_type": "error",
     "traceback": [
      "\u001b[0;31m---------------------------------------------------------------------------\u001b[0m",
      "\u001b[0;31mValueError\u001b[0m                                Traceback (most recent call last)",
      "Cell \u001b[0;32mIn[269], line 3\u001b[0m\n\u001b[1;32m      1\u001b[0m network \u001b[38;5;241m=\u001b[39m generate_layers()\n\u001b[0;32m----> 3\u001b[0m network \u001b[38;5;241m=\u001b[39m \u001b[43mtrain\u001b[49m\u001b[43m(\u001b[49m\u001b[43mnetwork\u001b[49m\u001b[43m,\u001b[49m\u001b[43mX\u001b[49m\u001b[43m,\u001b[49m\u001b[43mY\u001b[49m\u001b[43m)\u001b[49m\n",
      "Cell \u001b[0;32mIn[267], line 16\u001b[0m, in \u001b[0;36mtrain\u001b[0;34m(network, training_data, target)\u001b[0m\n\u001b[1;32m     14\u001b[0m \u001b[38;5;28;01mwhile\u001b[39;00m i \u001b[38;5;241m>\u001b[39m\u001b[38;5;241m=\u001b[39m \u001b[38;5;241m0\u001b[39m:\n\u001b[1;32m     15\u001b[0m     \u001b[38;5;28mprint\u001b[39m(deltas[\u001b[38;5;241m0\u001b[39m]\u001b[38;5;241m.\u001b[39mshape,layers[i\u001b[38;5;241m+\u001b[39m\u001b[38;5;241m1\u001b[39m]\u001b[38;5;241m.\u001b[39mshape)\n\u001b[0;32m---> 16\u001b[0m     errors\u001b[38;5;241m.\u001b[39minsert(\u001b[38;5;241m0\u001b[39m, (\u001b[43mdeltas\u001b[49m\u001b[43m[\u001b[49m\u001b[38;5;241;43m0\u001b[39;49m\u001b[43m]\u001b[49m\u001b[43m \u001b[49m\u001b[38;5;241;43m@\u001b[39;49m\u001b[43m \u001b[49m\u001b[43mlayers\u001b[49m\u001b[43m[\u001b[49m\u001b[43mi\u001b[49m\u001b[38;5;241;43m+\u001b[39;49m\u001b[38;5;241;43m1\u001b[39;49m\u001b[43m]\u001b[49m)\u001b[38;5;241m.\u001b[39mT)\n\u001b[1;32m     17\u001b[0m     \u001b[38;5;28mprint\u001b[39m(errors[\u001b[38;5;241m0\u001b[39m]\u001b[38;5;241m.\u001b[39mshape,df(layers[i])\u001b[38;5;241m.\u001b[39mshape)\n\u001b[1;32m     18\u001b[0m     deltas\u001b[38;5;241m.\u001b[39minsert(\u001b[38;5;241m0\u001b[39m, (errors[\u001b[38;5;241m0\u001b[39m] \u001b[38;5;241m@\u001b[39m df(layers[i])))\n",
      "\u001b[0;31mValueError\u001b[0m: matmul: Input operand 1 has a mismatch in its core dimension 0, with gufunc signature (n?,k),(k,m?)->(n?,m?) (size 31 is different from 1)"
     ]
    }
   ],
   "source": [
    "network = generate_layers()\n",
    "\n",
    "network = train(network,X,Y)\n"
   ]
  },
  {
   "cell_type": "code",
   "execution_count": 214,
   "id": "95268872-5ce4-418a-abd6-db2937a2bdda",
   "metadata": {},
   "outputs": [
    {
     "data": {
      "text/plain": [
       "(31,)"
      ]
     },
     "execution_count": 214,
     "metadata": {},
     "output_type": "execute_result"
    }
   ],
   "source": [
    "layers, result = evaluate(network,X)\n",
    "np.matmul(Y - result,layers[2])\n",
    "Y.shape"
   ]
  },
  {
   "cell_type": "code",
   "execution_count": 165,
   "id": "fe2dc8b4-6943-49bc-96af-583395465dcf",
   "metadata": {},
   "outputs": [
    {
     "data": {
      "text/plain": [
       "(1, 31)"
      ]
     },
     "execution_count": 165,
     "metadata": {},
     "output_type": "execute_result"
    }
   ],
   "source": [
    "(Y - result.T).shape"
   ]
  },
  {
   "cell_type": "code",
   "execution_count": 161,
   "id": "14bf0cc6-f07d-43da-9c63-aa80642196d0",
   "metadata": {},
   "outputs": [
    {
     "data": {
      "text/plain": [
       "(31,)"
      ]
     },
     "execution_count": 161,
     "metadata": {},
     "output_type": "execute_result"
    }
   ],
   "source": [
    "Y.shape"
   ]
  },
  {
   "cell_type": "code",
   "execution_count": 162,
   "id": "4092dd58-0f85-4e4e-9b1b-1cd59ce0a1bd",
   "metadata": {},
   "outputs": [
    {
     "data": {
      "text/plain": [
       "(31, 1)"
      ]
     },
     "execution_count": 162,
     "metadata": {},
     "output_type": "execute_result"
    }
   ],
   "source": [
    "result.shape"
   ]
  },
  {
   "cell_type": "code",
   "execution_count": null,
   "id": "16f07e42-9eed-42cc-a171-85759e47d736",
   "metadata": {},
   "outputs": [],
   "source": []
  }
 ],
 "metadata": {
  "kernelspec": {
   "display_name": "Python 3 (ipykernel)",
   "language": "python",
   "name": "python3"
  },
  "language_info": {
   "codemirror_mode": {
    "name": "ipython",
    "version": 3
   },
   "file_extension": ".py",
   "mimetype": "text/x-python",
   "name": "python",
   "nbconvert_exporter": "python",
   "pygments_lexer": "ipython3",
   "version": "3.12.3"
  }
 },
 "nbformat": 4,
 "nbformat_minor": 5
}
